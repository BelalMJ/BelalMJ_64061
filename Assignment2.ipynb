{
  "cells": [
    {
      "cell_type": "markdown",
      "metadata": {
        "id": "view-in-github",
        "colab_type": "text"
      },
      "source": [
        "<a href=\"https://colab.research.google.com/github/BelalMJ/BelalMJ_64061/blob/Assignment-2/Assignment2.ipynb\" target=\"_parent\"><img src=\"https://colab.research.google.com/assets/colab-badge.svg\" alt=\"Open In Colab\"/></a>"
      ]
    },
    {
      "cell_type": "markdown",
      "source": [
        "# BA64061 - Assignment 2: Convolution"
      ],
      "metadata": {
        "id": "yEKSDStXIJ3A"
      }
    },
    {
      "cell_type": "markdown",
      "metadata": {
        "id": "PDRmbsBmWI2p"
      },
      "source": [
        "## Firstly we need to mount Google Drive"
      ]
    },
    {
      "cell_type": "code",
      "execution_count": null,
      "metadata": {
        "colab": {
          "base_uri": "https://localhost:8080/"
        },
        "id": "inKrsHsb4949",
        "outputId": "9331dbc0-fd01-4aa9-b004-617c1f8ec9d1"
      },
      "outputs": [
        {
          "output_type": "stream",
          "name": "stdout",
          "text": [
            "Mounted at /content/drive\n"
          ]
        }
      ],
      "source": [
        "from google.colab import drive\n",
        "drive.mount('/content/drive')"
      ]
    },
    {
      "cell_type": "markdown",
      "metadata": {
        "id": "YlV3vml0WTNI"
      },
      "source": [
        "##Required Libraries"
      ]
    },
    {
      "cell_type": "code",
      "execution_count": null,
      "metadata": {
        "id": "YuzTZkNR5A9O"
      },
      "outputs": [],
      "source": [
        "import os\n",
        "import pathlib\n",
        "import tensorflow as tf\n",
        "from tensorflow.keras.preprocessing.image import ImageDataGenerator\n",
        "from tensorflow.keras import layers, models, Input\n",
        "from tensorflow.keras.applications import VGG16\n",
        "from tensorflow.keras.callbacks import EarlyStopping, ReduceLROnPlateau\n",
        "from tensorflow import keras\n",
        "import matplotlib.pyplot as plt\n",
        "import pandas as pd\n",
        "import numpy as np"
      ]
    },
    {
      "cell_type": "markdown",
      "metadata": {
        "id": "-RghwXH7Wbfo"
      },
      "source": [
        "##Define Dataset Paths"
      ]
    },
    {
      "cell_type": "code",
      "execution_count": null,
      "metadata": {
        "id": "jpE8y73q5Drd"
      },
      "outputs": [],
      "source": [
        "# Define the base directory for the dataset\n",
        "new_base_dir = pathlib.Path(\"/content/drive/MyDrive/Colab Notebooks/cats_vs_dogs_small\")\n",
        "\n",
        "# Define paths to the dataset\n",
        "train_dir = new_base_dir / \"train\"  # Training data\n",
        "validation_dir = new_base_dir / \"validation\"  # Validation data\n",
        "test_dir = new_base_dir / \"test\"  # Test data\n",
        "\n",
        "Define dataset sizes\n",
        "train_sizes = [500, 1000, 1500, 2000, 2500]  # Train different samples for later comparison\n",
        "validation_size = 500\n",
        "test_size = 500"
      ]
    },
    {
      "cell_type": "markdown",
      "metadata": {
        "id": "UCK-xw71WkB_"
      },
      "source": [
        "##Define Model Creation Functions"
      ]
    },
    {
      "cell_type": "code",
      "execution_count": null,
      "metadata": {
        "id": "l8eg1XMs5GG2"
      },
      "outputs": [],
      "source": [
        "# Custom CNN Model\n",
        "def create_model():\n",
        "    model = keras.Sequential([\n",
        "        keras.layers.Conv2D(32, (3, 3), activation='relu', input_shape=(150, 150, 3)),\n",
        "        keras.layers.MaxPooling2D(2, 2),\n",
        "        keras.layers.Conv2D(64, (3, 3), activation='relu'),\n",
        "        keras.layers.MaxPooling2D(2, 2),\n",
        "        keras.layers.Conv2D(128, (3, 3), activation='relu'),\n",
        "        keras.layers.MaxPooling2D(2, 2),\n",
        "        keras.layers.Flatten(),\n",
        "        keras.layers.Dense(512, activation='relu'),\n",
        "        keras.layers.Dropout(0.5),\n",
        "        keras.layers.Dense(1, activation='sigmoid')\n",
        "    ])\n",
        "    model.compile(loss='binary_crossentropy', optimizer=keras.optimizers.Adam(), metrics=['accuracy'])\n",
        "    return model\n",
        "\n",
        "# Pretrained VGG16 Model\n",
        "def create_pretrained_model():\n",
        "    base_model = VGG16(weights='imagenet', include_top=False, input_shape=(150, 150, 3))\n",
        "    base_model.trainable = False\n",
        "    model = keras.Sequential([\n",
        "        base_model,\n",
        "        keras.layers.Flatten(),\n",
        "        keras.layers.Dense(512, activation='relu'),\n",
        "        keras.layers.Dropout(0.5),\n",
        "        keras.layers.Dense(1, activation='sigmoid')\n",
        "    ])\n",
        "    model.compile(loss='binary_crossentropy', optimizer=keras.optimizers.Adam(), metrics=['accuracy'])\n",
        "    return model"
      ]
    },
    {
      "cell_type": "markdown",
      "metadata": {
        "id": "cdpqv_04WsHL"
      },
      "source": [
        "##Set Up Data Generators"
      ]
    },
    {
      "cell_type": "code",
      "execution_count": null,
      "metadata": {
        "colab": {
          "base_uri": "https://localhost:8080/"
        },
        "id": "EW0Qg_sT5JVY",
        "outputId": "622f8380-5d3c-421d-fff5-42ea0c309f03"
      },
      "outputs": [
        {
          "output_type": "stream",
          "name": "stdout",
          "text": [
            "Found 2000 images belonging to 2 classes.\n",
            "Found 1000 images belonging to 2 classes.\n",
            "Found 1007 images belonging to 2 classes.\n"
          ]
        }
      ],
      "source": [
        "# Data augmentation for training and rescaling for validation/testing\n",
        "train_datagen = ImageDataGenerator(\n",
        "    rescale=1./255, rotation_range=40, width_shift_range=0.2,\n",
        "    height_shift_range=0.2, shear_range=0.2, zoom_range=0.2,\n",
        "    horizontal_flip=True\n",
        ")\n",
        "val_test_datagen = ImageDataGenerator(rescale=1./255)\n",
        "\n",
        "# Load training, validation, and test data\n",
        "train_generator = train_datagen.flow_from_directory(\n",
        "    train_dir, target_size=(150, 150), batch_size=32, class_mode='binary', shuffle=True\n",
        ")\n",
        "validation_generator = val_test_datagen.flow_from_directory(\n",
        "    validation_dir, target_size=(150, 150), batch_size=32, class_mode='binary'\n",
        ")\n",
        "test_generator = val_test_datagen.flow_from_directory(\n",
        "    test_dir, target_size=(150, 150), batch_size=32, class_mode='binary'\n",
        ")"
      ]
    },
    {
      "cell_type": "markdown",
      "source": [
        "##Train and evaluate a model with early stopping and learning rate reduction"
      ],
      "metadata": {
        "id": "6NQ8NseCAcJ9"
      }
    },
    {
      "cell_type": "code",
      "source": [
        "def train_and_evaluate(model, train_generator, validation_generator, test_generator, train_size, epochs=10):\n",
        "    steps_per_epoch = train_size // 32\n",
        "    validation_steps = validation_size // 32\n",
        "\n",
        "    # Callbacks for early stopping and learning rate reduction\n",
        "    callbacks = [\n",
        "        EarlyStopping(monitor='val_loss', patience=5, restore_best_weights=True),\n",
        "        ReduceLROnPlateau(monitor='val_loss', factor=0.2, patience=3, min_lr=1e-6)\n",
        "    ]\n",
        "\n",
        "    print(f\"\\nTraining with {train_size} samples...\")\n",
        "    history = model.fit(\n",
        "        train_generator, epochs=epochs, validation_data=validation_generator,\n",
        "        steps_per_epoch=steps_per_epoch, validation_steps=validation_steps,\n",
        "        callbacks=callbacks, verbose=1\n",
        "    )\n",
        "\n",
        "    # Evaluate on test set\n",
        "    test_loss, test_acc = model.evaluate(test_generator, verbose=1)\n",
        "\n",
        "    # Print metrics\n",
        "    print(f\"Train Accuracy: {history.history['accuracy'][-1]:.4f}\")\n",
        "    print(f\"Training Loss: {history.history['loss'][-1]:.4f}\")\n",
        "    print(f\"Validation Accuracy: {history.history['val_accuracy'][-1]:.4f}\")\n",
        "    print(f\"Validation Loss: {history.history['val_loss'][-1]:.4f}\")\n",
        "    print(f\"Test Accuracy for {train_size} samples: {test_acc:.4f}\")\n",
        "\n",
        "    # Return results and history for plotting\n",
        "    return {\n",
        "        'train_size': train_size,\n",
        "        'train_acc': history.history['accuracy'][-1],\n",
        "        'train_loss': history.history['loss'][-1],\n",
        "        'val_acc': history.history['val_accuracy'][-1],\n",
        "        'val_loss': history.history['val_loss'][-1],\n",
        "        'test_acc': test_acc\n",
        "    }, history"
      ],
      "metadata": {
        "id": "j8BvyV7qCKJQ"
      },
      "execution_count": null,
      "outputs": []
    },
    {
      "cell_type": "markdown",
      "metadata": {
        "id": "CPmwJF9gW458"
      },
      "source": [
        "##Training Models from scratch with Different Sample Sizes"
      ]
    },
    {
      "cell_type": "code",
      "execution_count": null,
      "metadata": {
        "colab": {
          "base_uri": "https://localhost:8080/"
        },
        "id": "IOyerpuW5nxv",
        "outputId": "0fd67fc1-c06b-4f9a-fae4-d8055970822d"
      },
      "outputs": [
        {
          "metadata": {
            "tags": null
          },
          "name": "stderr",
          "output_type": "stream",
          "text": [
            "/usr/local/lib/python3.11/dist-packages/keras/src/layers/convolutional/base_conv.py:107: UserWarning: Do not pass an `input_shape`/`input_dim` argument to a layer. When using Sequential models, prefer using an `Input(shape)` object as the first layer in the model instead.\n",
            "  super().__init__(activity_regularizer=activity_regularizer, **kwargs)\n"
          ]
        },
        {
          "metadata": {
            "tags": null
          },
          "name": "stdout",
          "output_type": "stream",
          "text": [
            "\n",
            "Training with 500 samples...\n"
          ]
        },
        {
          "metadata": {
            "tags": null
          },
          "name": "stderr",
          "output_type": "stream",
          "text": [
            "/usr/local/lib/python3.11/dist-packages/keras/src/trainers/data_adapters/py_dataset_adapter.py:121: UserWarning: Your `PyDataset` class should call `super().__init__(**kwargs)` in its constructor. `**kwargs` can include `workers`, `use_multiprocessing`, `max_queue_size`. Do not pass these arguments to `fit()`, as they will be ignored.\n",
            "  self._warn_if_super_not_called()\n"
          ]
        },
        {
          "output_type": "stream",
          "name": "stdout",
          "text": [
            "Epoch 1/10\n",
            "\u001b[1m15/15\u001b[0m \u001b[32m━━━━━━━━━━━━━━━━━━━━\u001b[0m\u001b[37m\u001b[0m \u001b[1m93s\u001b[0m 3s/step - accuracy: 0.4632 - loss: 1.8559 - val_accuracy: 0.5042 - val_loss: 0.6935 - learning_rate: 0.0010\n",
            "Epoch 2/10\n",
            "\u001b[1m15/15\u001b[0m \u001b[32m━━━━━━━━━━━━━━━━━━━━\u001b[0m\u001b[37m\u001b[0m \u001b[1m82s\u001b[0m 6s/step - accuracy: 0.5474 - loss: 0.6923 - val_accuracy: 0.4979 - val_loss: 0.6949 - learning_rate: 0.0010\n",
            "Epoch 3/10\n",
            "\u001b[1m15/15\u001b[0m \u001b[32m━━━━━━━━━━━━━━━━━━━━\u001b[0m\u001b[37m\u001b[0m \u001b[1m42s\u001b[0m 3s/step - accuracy: 0.5403 - loss: 0.6853 - val_accuracy: 0.5083 - val_loss: 0.6973 - learning_rate: 0.0010\n",
            "Epoch 4/10\n",
            "\u001b[1m15/15\u001b[0m \u001b[32m━━━━━━━━━━━━━━━━━━━━\u001b[0m\u001b[37m\u001b[0m \u001b[1m42s\u001b[0m 3s/step - accuracy: 0.5312 - loss: 0.6914 - val_accuracy: 0.4875 - val_loss: 0.6933 - learning_rate: 0.0010\n",
            "Epoch 5/10\n",
            "\u001b[1m 3/15\u001b[0m \u001b[32m━━━━\u001b[0m\u001b[37m━━━━━━━━━━━━━━━━\u001b[0m \u001b[1m19s\u001b[0m 2s/step - accuracy: 0.5330 - loss: 0.6935"
          ]
        },
        {
          "output_type": "stream",
          "name": "stderr",
          "text": [
            "/usr/local/lib/python3.11/dist-packages/keras/src/trainers/epoch_iterator.py:107: UserWarning: Your input ran out of data; interrupting training. Make sure that your dataset or generator can generate at least `steps_per_epoch * epochs` batches. You may need to use the `.repeat()` function when building your dataset.\n",
            "  self._interrupted_warning()\n"
          ]
        },
        {
          "output_type": "stream",
          "name": "stdout",
          "text": [
            "\b\b\b\b\b\b\b\b\b\b\b\b\b\b\b\b\b\b\b\b\b\b\b\b\b\b\b\b\b\b\b\b\b\b\b\b\b\b\b\b\b\b\b\b\b\b\b\b\b\b\b\b\b\b\b\b\b\b\b\b\b\b\b\b\b\b\b\b\b\b\b\b\r\u001b[1m15/15\u001b[0m \u001b[32m━━━━━━━━━━━━━━━━━━━━\u001b[0m\u001b[37m\u001b[0m \u001b[1m15s\u001b[0m 956ms/step - accuracy: 0.5483 - loss: 0.6896 - val_accuracy: 0.5063 - val_loss: 0.6895 - learning_rate: 0.0010\n",
            "Epoch 6/10\n",
            "\u001b[1m15/15\u001b[0m \u001b[32m━━━━━━━━━━━━━━━━━━━━\u001b[0m\u001b[37m\u001b[0m \u001b[1m82s\u001b[0m 3s/step - accuracy: 0.5130 - loss: 0.6912 - val_accuracy: 0.4708 - val_loss: 0.6954 - learning_rate: 0.0010\n",
            "Epoch 7/10\n",
            "\u001b[1m15/15\u001b[0m \u001b[32m━━━━━━━━━━━━━━━━━━━━\u001b[0m\u001b[37m\u001b[0m \u001b[1m41s\u001b[0m 3s/step - accuracy: 0.5138 - loss: 0.6942 - val_accuracy: 0.5542 - val_loss: 0.6878 - learning_rate: 0.0010\n",
            "Epoch 8/10\n",
            "\u001b[1m15/15\u001b[0m \u001b[32m━━━━━━━━━━━━━━━━━━━━\u001b[0m\u001b[37m\u001b[0m \u001b[1m82s\u001b[0m 6s/step - accuracy: 0.5730 - loss: 0.6872 - val_accuracy: 0.5604 - val_loss: 0.6827 - learning_rate: 0.0010\n",
            "Epoch 9/10\n",
            "\u001b[1m15/15\u001b[0m \u001b[32m━━━━━━━━━━━━━━━━━━━━\u001b[0m\u001b[37m\u001b[0m \u001b[1m82s\u001b[0m 6s/step - accuracy: 0.5415 - loss: 0.6954 - val_accuracy: 0.5208 - val_loss: 0.6811 - learning_rate: 0.0010\n",
            "Epoch 10/10\n",
            "\u001b[1m15/15\u001b[0m \u001b[32m━━━━━━━━━━━━━━━━━━━━\u001b[0m\u001b[37m\u001b[0m \u001b[1m19s\u001b[0m 1s/step - accuracy: 0.5111 - loss: 0.6887 - val_accuracy: 0.4958 - val_loss: 0.6849 - learning_rate: 0.0010\n",
            "\u001b[1m32/32\u001b[0m \u001b[32m━━━━━━━━━━━━━━━━━━━━\u001b[0m\u001b[37m\u001b[0m \u001b[1m19s\u001b[0m 585ms/step - accuracy: 0.4865 - loss: 0.6861\n",
            "Train Accuracy: 0.5104\n",
            "Training Loss: 0.6871\n",
            "Validation Accuracy: 0.4958\n",
            "Validation Loss: 0.6849\n",
            "Test Accuracy for 500 samples: 0.5005\n"
          ]
        }
      ],
      "source": [
        "def train_and_evaluate(model, train_generator, validation_generator, test_generator, train_size, epochs=10):\n",
        "    steps_per_epoch = train_size // 32\n",
        "    validation_steps = validation_size // 32\n",
        "\n",
        "    # Callbacks for early stopping and learning rate reduction\n",
        "    callbacks = [\n",
        "        EarlyStopping(monitor='val_loss', patience=5, restore_best_weights=True),\n",
        "        ReduceLROnPlateau(monitor='val_loss', factor=0.2, patience=3, min_lr=1e-6)\n",
        "    ]\n",
        "\n",
        "    print(f\"\\nTraining with {train_size} samples...\")\n",
        "    history = model.fit(\n",
        "        train_generator, epochs=epochs, validation_data=validation_generator,\n",
        "        steps_per_epoch=steps_per_epoch, validation_steps=validation_steps,\n",
        "        callbacks=callbacks, verbose=1\n",
        "    )\n",
        "\n",
        "    # Evaluate on test set\n",
        "    test_loss, test_acc = model.evaluate(test_generator, verbose=1)\n",
        "\n",
        "    # Print metrics\n",
        "    print(f\"Train Accuracy: {history.history['accuracy'][-1]:.4f}\")\n",
        "    print(f\"Training Loss: {history.history['loss'][-1]:.4f}\")\n",
        "    print(f\"Validation Accuracy: {history.history['val_accuracy'][-1]:.4f}\")\n",
        "    print(f\"Validation Loss: {history.history['val_loss'][-1]:.4f}\")\n",
        "    print(f\"Test Accuracy for {train_size} samples: {test_acc:.4f}\")\n",
        "\n",
        "    # Return results and history for plotting\n",
        "    return {\n",
        "        'train_size': train_size,\n",
        "        'train_acc': history.history['accuracy'][-1],\n",
        "        'train_loss': history.history['loss'][-1],\n",
        "        'val_acc': history.history['val_accuracy'][-1],\n",
        "        'val_loss': history.history['val_loss'][-1],\n",
        "        'test_acc': test_acc\n",
        "    }, history\n",
        "\n",
        "\n",
        "scratch_results = []\n",
        "train_size = 500  # Train for question 3\n",
        "\n",
        "# Train and evaluate the scratch model\n",
        "results, history = train_and_evaluate(create_model(), train_generator, validation_generator, test_generator, train_size)\n",
        "scratch_results.append(results)"
      ]
    },
    {
      "cell_type": "code",
      "execution_count": null,
      "metadata": {
        "colab": {
          "base_uri": "https://localhost:8080/"
        },
        "id": "yVMEyJs9mW6K",
        "outputId": "d8de3dba-faa0-481b-d311-b805f8539456"
      },
      "outputs": [
        {
          "output_type": "stream",
          "name": "stdout",
          "text": [
            "\n",
            "Training with 1000 samples...\n",
            "Epoch 1/10\n",
            "\u001b[1m31/31\u001b[0m \u001b[32m━━━━━━━━━━━━━━━━━━━━\u001b[0m\u001b[37m\u001b[0m \u001b[1m82s\u001b[0m 3s/step - accuracy: 0.4966 - loss: 0.9303 - val_accuracy: 0.4979 - val_loss: 0.6916 - learning_rate: 0.0010\n",
            "Epoch 2/10\n",
            "\u001b[1m31/31\u001b[0m \u001b[32m━━━━━━━━━━━━━━━━━━━━\u001b[0m\u001b[37m\u001b[0m \u001b[1m77s\u001b[0m 2s/step - accuracy: 0.5269 - loss: 0.6916 - val_accuracy: 0.6208 - val_loss: 0.6824 - learning_rate: 0.0010\n",
            "Epoch 3/10\n",
            "\u001b[1m31/31\u001b[0m \u001b[32m━━━━━━━━━━━━━━━━━━━━\u001b[0m\u001b[37m\u001b[0m \u001b[1m19s\u001b[0m 587ms/step - accuracy: 0.4688 - loss: 0.6910 - val_accuracy: 0.5854 - val_loss: 0.6839 - learning_rate: 0.0010\n",
            "Epoch 4/10\n",
            "\u001b[1m31/31\u001b[0m \u001b[32m━━━━━━━━━━━━━━━━━━━━\u001b[0m\u001b[37m\u001b[0m \u001b[1m81s\u001b[0m 3s/step - accuracy: 0.5546 - loss: 0.6883 - val_accuracy: 0.5458 - val_loss: 0.6821 - learning_rate: 0.0010\n",
            "Epoch 5/10\n",
            "\u001b[1m31/31\u001b[0m \u001b[32m━━━━━━━━━━━━━━━━━━━━\u001b[0m\u001b[37m\u001b[0m \u001b[1m84s\u001b[0m 3s/step - accuracy: 0.5847 - loss: 0.6763 - val_accuracy: 0.6271 - val_loss: 0.6622 - learning_rate: 0.0010\n",
            "Epoch 6/10\n",
            "\u001b[1m31/31\u001b[0m \u001b[32m━━━━━━━━━━━━━━━━━━━━\u001b[0m\u001b[37m\u001b[0m \u001b[1m12s\u001b[0m 340ms/step - accuracy: 0.7500 - loss: 0.6410 - val_accuracy: 0.6146 - val_loss: 0.6633 - learning_rate: 0.0010\n",
            "Epoch 7/10\n",
            "\u001b[1m31/31\u001b[0m \u001b[32m━━━━━━━━━━━━━━━━━━━━\u001b[0m\u001b[37m\u001b[0m \u001b[1m101s\u001b[0m 2s/step - accuracy: 0.5379 - loss: 0.6891 - val_accuracy: 0.5938 - val_loss: 0.6379 - learning_rate: 0.0010\n",
            "Epoch 8/10\n",
            "\u001b[1m31/31\u001b[0m \u001b[32m━━━━━━━━━━━━━━━━━━━━\u001b[0m\u001b[37m\u001b[0m \u001b[1m83s\u001b[0m 3s/step - accuracy: 0.5929 - loss: 0.6761 - val_accuracy: 0.5521 - val_loss: 0.6728 - learning_rate: 0.0010\n",
            "Epoch 9/10\n",
            "\u001b[1m31/31\u001b[0m \u001b[32m━━━━━━━━━━━━━━━━━━━━\u001b[0m\u001b[37m\u001b[0m \u001b[1m19s\u001b[0m 568ms/step - accuracy: 0.5000 - loss: 0.6977 - val_accuracy: 0.5896 - val_loss: 0.6621 - learning_rate: 0.0010\n",
            "Epoch 10/10\n",
            "\u001b[1m31/31\u001b[0m \u001b[32m━━━━━━━━━━━━━━━━━━━━\u001b[0m\u001b[37m\u001b[0m \u001b[1m83s\u001b[0m 3s/step - accuracy: 0.5464 - loss: 0.6867 - val_accuracy: 0.6396 - val_loss: 0.6462 - learning_rate: 0.0010\n",
            "\u001b[1m32/32\u001b[0m \u001b[32m━━━━━━━━━━━━━━━━━━━━\u001b[0m\u001b[37m\u001b[0m \u001b[1m20s\u001b[0m 608ms/step - accuracy: 0.5916 - loss: 0.6656\n",
            "Train Accuracy: 0.5696\n",
            "Training Loss: 0.6779\n",
            "Validation Accuracy: 0.6396\n",
            "Validation Loss: 0.6462\n",
            "Test Accuracy for 1000 samples: 0.5700\n"
          ]
        }
      ],
      "source": [
        "scratch_results = []\n",
        "train_size = 1000  # Train for question 1\n",
        "\n",
        "# Train and evaluate the scratch model\n",
        "results, history = train_and_evaluate(create_model(), train_generator, validation_generator, test_generator, train_size)\n",
        "scratch_results.append(results)"
      ]
    },
    {
      "cell_type": "code",
      "execution_count": null,
      "metadata": {
        "id": "fnVtWPfKn2oG",
        "colab": {
          "base_uri": "https://localhost:8080/"
        },
        "outputId": "b0c1274d-28b5-4b43-8b95-a864ff2a6cef"
      },
      "outputs": [
        {
          "output_type": "stream",
          "name": "stdout",
          "text": [
            "\n",
            "Training with 1500 samples...\n",
            "Epoch 1/10\n",
            "\u001b[1m46/46\u001b[0m \u001b[32m━━━━━━━━━━━━━━━━━━━━\u001b[0m\u001b[37m\u001b[0m \u001b[1m110s\u001b[0m 2s/step - accuracy: 0.4981 - loss: 1.0291 - val_accuracy: 0.5104 - val_loss: 0.6930 - learning_rate: 0.0010\n",
            "Epoch 2/10\n",
            "\u001b[1m46/46\u001b[0m \u001b[32m━━━━━━━━━━━━━━━━━━━━\u001b[0m\u001b[37m\u001b[0m \u001b[1m46s\u001b[0m 965ms/step - accuracy: 0.5117 - loss: 0.6925 - val_accuracy: 0.5271 - val_loss: 0.6900 - learning_rate: 0.0010\n",
            "Epoch 3/10\n",
            "\u001b[1m46/46\u001b[0m \u001b[32m━━━━━━━━━━━━━━━━━━━━\u001b[0m\u001b[37m\u001b[0m \u001b[1m203s\u001b[0m 3s/step - accuracy: 0.4933 - loss: 0.6940 - val_accuracy: 0.5167 - val_loss: 0.6915 - learning_rate: 0.0010\n",
            "Epoch 4/10\n",
            "\u001b[1m46/46\u001b[0m \u001b[32m━━━━━━━━━━━━━━━━━━━━\u001b[0m\u001b[37m\u001b[0m \u001b[1m82s\u001b[0m 2s/step - accuracy: 0.5271 - loss: 0.6920 - val_accuracy: 0.5063 - val_loss: 0.6894 - learning_rate: 0.0010\n",
            "Epoch 5/10\n",
            "\u001b[1m46/46\u001b[0m \u001b[32m━━━━━━━━━━━━━━━━━━━━\u001b[0m\u001b[37m\u001b[0m \u001b[1m142s\u001b[0m 3s/step - accuracy: 0.4993 - loss: 0.6974 - val_accuracy: 0.4875 - val_loss: 0.6816 - learning_rate: 0.0010\n",
            "Epoch 6/10\n",
            "\u001b[1m46/46\u001b[0m \u001b[32m━━━━━━━━━━━━━━━━━━━━\u001b[0m\u001b[37m\u001b[0m \u001b[1m82s\u001b[0m 2s/step - accuracy: 0.5106 - loss: 0.6871 - val_accuracy: 0.4812 - val_loss: 0.6877 - learning_rate: 0.0010\n",
            "Epoch 7/10\n",
            "\u001b[1m46/46\u001b[0m \u001b[32m━━━━━━━━━━━━━━━━━━━━\u001b[0m\u001b[37m\u001b[0m \u001b[1m201s\u001b[0m 4s/step - accuracy: 0.5246 - loss: 0.6871 - val_accuracy: 0.5521 - val_loss: 0.6895 - learning_rate: 0.0010\n",
            "Epoch 8/10\n",
            "\u001b[1m46/46\u001b[0m \u001b[32m━━━━━━━━━━━━━━━━━━━━\u001b[0m\u001b[37m\u001b[0m \u001b[1m47s\u001b[0m 976ms/step - accuracy: 0.5348 - loss: 0.6869 - val_accuracy: 0.5354 - val_loss: 0.6907 - learning_rate: 0.0010\n",
            "Epoch 9/10\n",
            "\u001b[1m46/46\u001b[0m \u001b[32m━━━━━━━━━━━━━━━━━━━━\u001b[0m\u001b[37m\u001b[0m \u001b[1m142s\u001b[0m 3s/step - accuracy: 0.5575 - loss: 0.6847 - val_accuracy: 0.5583 - val_loss: 0.6733 - learning_rate: 2.0000e-04\n",
            "Epoch 10/10\n",
            "\u001b[1m46/46\u001b[0m \u001b[32m━━━━━━━━━━━━━━━━━━━━\u001b[0m\u001b[37m\u001b[0m \u001b[1m82s\u001b[0m 2s/step - accuracy: 0.5493 - loss: 0.6802 - val_accuracy: 0.5521 - val_loss: 0.6822 - learning_rate: 2.0000e-04\n",
            "\u001b[1m32/32\u001b[0m \u001b[32m━━━━━━━━━━━━━━━━━━━━\u001b[0m\u001b[37m\u001b[0m \u001b[1m19s\u001b[0m 588ms/step - accuracy: 0.5550 - loss: 0.6743\n",
            "Train Accuracy: 0.5533\n",
            "Training Loss: 0.6804\n",
            "Validation Accuracy: 0.5521\n",
            "Validation Loss: 0.6822\n",
            "Test Accuracy for 1500 samples: 0.5482\n"
          ]
        }
      ],
      "source": [
        "scratch_results = []\n",
        "train_size = 1500  # Train for question 2\n",
        "\n",
        "# Train and evaluate the scratch model\n",
        "results, history = train_and_evaluate(create_model(), train_generator, validation_generator, test_generator, train_size)\n",
        "scratch_results.append(results)"
      ]
    },
    {
      "cell_type": "code",
      "execution_count": null,
      "metadata": {
        "id": "sGDjPIlSn4qA",
        "colab": {
          "base_uri": "https://localhost:8080/"
        },
        "outputId": "bc426951-ae3c-4595-ed50-584a0ada5f23"
      },
      "outputs": [
        {
          "output_type": "stream",
          "name": "stdout",
          "text": [
            "\n",
            "Training with 2000 samples...\n",
            "Epoch 1/10\n",
            "\u001b[1m62/62\u001b[0m \u001b[32m━━━━━━━━━━━━━━━━━━━━\u001b[0m\u001b[37m\u001b[0m \u001b[1m149s\u001b[0m 2s/step - accuracy: 0.4920 - loss: 0.9034 - val_accuracy: 0.5104 - val_loss: 0.6995 - learning_rate: 0.0010\n",
            "Epoch 2/10\n",
            "\u001b[1m62/62\u001b[0m \u001b[32m━━━━━━━━━━━━━━━━━━━━\u001b[0m\u001b[37m\u001b[0m \u001b[1m12s\u001b[0m 161ms/step - accuracy: 0.4688 - loss: 0.7030 - val_accuracy: 0.4708 - val_loss: 0.6967 - learning_rate: 0.0010\n",
            "Epoch 3/10\n",
            "\u001b[1m62/62\u001b[0m \u001b[32m━━━━━━━━━━━━━━━━━━━━\u001b[0m\u001b[37m\u001b[0m \u001b[1m201s\u001b[0m 3s/step - accuracy: 0.5185 - loss: 0.6942 - val_accuracy: 0.5250 - val_loss: 0.6927 - learning_rate: 0.0010\n",
            "Epoch 4/10\n",
            "\u001b[1m62/62\u001b[0m \u001b[32m━━━━━━━━━━━━━━━━━━━━\u001b[0m\u001b[37m\u001b[0m \u001b[1m22s\u001b[0m 318ms/step - accuracy: 0.3750 - loss: 0.6942 - val_accuracy: 0.5250 - val_loss: 0.6927 - learning_rate: 0.0010\n",
            "Epoch 5/10\n",
            "\u001b[1m62/62\u001b[0m \u001b[32m━━━━━━━━━━━━━━━━━━━━\u001b[0m\u001b[37m\u001b[0m \u001b[1m200s\u001b[0m 3s/step - accuracy: 0.4963 - loss: 0.6933 - val_accuracy: 0.5229 - val_loss: 0.6923 - learning_rate: 0.0010\n",
            "Epoch 6/10\n",
            "\u001b[1m62/62\u001b[0m \u001b[32m━━━━━━━━━━━━━━━━━━━━\u001b[0m\u001b[37m\u001b[0m \u001b[1m12s\u001b[0m 171ms/step - accuracy: 0.3438 - loss: 0.6957 - val_accuracy: 0.5437 - val_loss: 0.6922 - learning_rate: 0.0010\n",
            "Epoch 7/10\n",
            "\u001b[1m62/62\u001b[0m \u001b[32m━━━━━━━━━━━━━━━━━━━━\u001b[0m\u001b[37m\u001b[0m \u001b[1m200s\u001b[0m 3s/step - accuracy: 0.5069 - loss: 0.6931 - val_accuracy: 0.5500 - val_loss: 0.6857 - learning_rate: 0.0010\n",
            "Epoch 8/10\n",
            "\u001b[1m62/62\u001b[0m \u001b[32m━━━━━━━━━━━━━━━━━━━━\u001b[0m\u001b[37m\u001b[0m \u001b[1m12s\u001b[0m 161ms/step - accuracy: 0.5312 - loss: 0.6730 - val_accuracy: 0.5688 - val_loss: 0.6821 - learning_rate: 0.0010\n",
            "Epoch 9/10\n",
            "\u001b[1m62/62\u001b[0m \u001b[32m━━━━━━━━━━━━━━━━━━━━\u001b[0m\u001b[37m\u001b[0m \u001b[1m195s\u001b[0m 2s/step - accuracy: 0.5357 - loss: 0.6910 - val_accuracy: 0.5458 - val_loss: 0.6846 - learning_rate: 0.0010\n",
            "Epoch 10/10\n",
            "\u001b[1m62/62\u001b[0m \u001b[32m━━━━━━━━━━━━━━━━━━━━\u001b[0m\u001b[37m\u001b[0m \u001b[1m19s\u001b[0m 278ms/step - accuracy: 0.6875 - loss: 0.6692 - val_accuracy: 0.5500 - val_loss: 0.6847 - learning_rate: 0.0010\n",
            "\u001b[1m32/32\u001b[0m \u001b[32m━━━━━━━━━━━━━━━━━━━━\u001b[0m\u001b[37m\u001b[0m \u001b[1m21s\u001b[0m 625ms/step - accuracy: 0.5333 - loss: 0.6900\n",
            "Train Accuracy: 0.6875\n",
            "Training Loss: 0.6692\n",
            "Validation Accuracy: 0.5500\n",
            "Validation Loss: 0.6847\n",
            "Test Accuracy for 2000 samples: 0.5511\n"
          ]
        }
      ],
      "source": [
        "scratch_results = []\n",
        "train_size = 2000  # Train for question 3\n",
        "\n",
        "# Train and evaluate the scratch model\n",
        "results, history = train_and_evaluate(create_model(), train_generator, validation_generator, test_generator, train_size)\n",
        "scratch_results.append(results)"
      ]
    },
    {
      "cell_type": "code",
      "source": [
        "scratch_results = []\n",
        "train_size = 2500 # Train for question 3\n",
        "\n",
        "# Train and evaluate the scratch model\n",
        "results, history = train_and_evaluate(create_model(), train_generator, validation_generator, test_generator, train_size)\n",
        "scratch_results.append(results)"
      ],
      "metadata": {
        "id": "XquxrlZDTOqh",
        "colab": {
          "base_uri": "https://localhost:8080/"
        },
        "outputId": "0fbf0e9d-1544-4771-db5d-06189dc8a858"
      },
      "execution_count": null,
      "outputs": [
        {
          "output_type": "stream",
          "name": "stdout",
          "text": [
            "\n",
            "Training with 2500 samples...\n",
            "Epoch 1/10\n",
            "\u001b[1m78/78\u001b[0m \u001b[32m━━━━━━━━━━━━━━━━━━━━\u001b[0m\u001b[37m\u001b[0m \u001b[1m153s\u001b[0m 2s/step - accuracy: 0.5215 - loss: 0.9311 - val_accuracy: 0.4979 - val_loss: 0.6932 - learning_rate: 0.0010\n",
            "Epoch 2/10\n",
            "\u001b[1m78/78\u001b[0m \u001b[32m━━━━━━━━━━━━━━━━━━━━\u001b[0m\u001b[37m\u001b[0m \u001b[1m199s\u001b[0m 2s/step - accuracy: 0.5094 - loss: 0.6931 - val_accuracy: 0.5417 - val_loss: 0.6941 - learning_rate: 0.0010\n",
            "Epoch 3/10\n",
            "\u001b[1m78/78\u001b[0m \u001b[32m━━━━━━━━━━━━━━━━━━━━\u001b[0m\u001b[37m\u001b[0m \u001b[1m201s\u001b[0m 3s/step - accuracy: 0.5194 - loss: 0.6914 - val_accuracy: 0.5063 - val_loss: 0.6923 - learning_rate: 0.0010\n",
            "Epoch 4/10\n",
            "\u001b[1m78/78\u001b[0m \u001b[32m━━━━━━━━━━━━━━━━━━━━\u001b[0m\u001b[37m\u001b[0m \u001b[1m201s\u001b[0m 3s/step - accuracy: 0.5040 - loss: 0.6957 - val_accuracy: 0.5104 - val_loss: 0.6918 - learning_rate: 0.0010\n",
            "Epoch 5/10\n",
            "\u001b[1m78/78\u001b[0m \u001b[32m━━━━━━━━━━━━━━━━━━━━\u001b[0m\u001b[37m\u001b[0m \u001b[1m203s\u001b[0m 3s/step - accuracy: 0.5243 - loss: 0.6900 - val_accuracy: 0.5437 - val_loss: 0.6840 - learning_rate: 0.0010\n",
            "Epoch 6/10\n",
            "\u001b[1m78/78\u001b[0m \u001b[32m━━━━━━━━━━━━━━━━━━━━\u001b[0m\u001b[37m\u001b[0m \u001b[1m200s\u001b[0m 3s/step - accuracy: 0.5526 - loss: 0.6811 - val_accuracy: 0.5729 - val_loss: 0.6724 - learning_rate: 0.0010\n",
            "Epoch 7/10\n",
            "\u001b[1m78/78\u001b[0m \u001b[32m━━━━━━━━━━━━━━━━━━━━\u001b[0m\u001b[37m\u001b[0m \u001b[1m143s\u001b[0m 2s/step - accuracy: 0.5442 - loss: 0.6924 - val_accuracy: 0.5333 - val_loss: 0.6850 - learning_rate: 0.0010\n",
            "Epoch 8/10\n",
            "\u001b[1m78/78\u001b[0m \u001b[32m━━━━━━━━━━━━━━━━━━━━\u001b[0m\u001b[37m\u001b[0m \u001b[1m201s\u001b[0m 3s/step - accuracy: 0.6069 - loss: 0.6769 - val_accuracy: 0.6313 - val_loss: 0.6438 - learning_rate: 0.0010\n",
            "Epoch 9/10\n",
            "\u001b[1m78/78\u001b[0m \u001b[32m━━━━━━━━━━━━━━━━━━━━\u001b[0m\u001b[37m\u001b[0m \u001b[1m143s\u001b[0m 2s/step - accuracy: 0.5784 - loss: 0.6702 - val_accuracy: 0.6417 - val_loss: 0.6539 - learning_rate: 0.0010\n",
            "Epoch 10/10\n",
            "\u001b[1m78/78\u001b[0m \u001b[32m━━━━━━━━━━━━━━━━━━━━\u001b[0m\u001b[37m\u001b[0m \u001b[1m142s\u001b[0m 2s/step - accuracy: 0.5780 - loss: 0.6703 - val_accuracy: 0.5813 - val_loss: 0.6563 - learning_rate: 0.0010\n",
            "\u001b[1m32/32\u001b[0m \u001b[32m━━━━━━━━━━━━━━━━━━━━\u001b[0m\u001b[37m\u001b[0m \u001b[1m20s\u001b[0m 609ms/step - accuracy: 0.6273 - loss: 0.6571\n",
            "Train Accuracy: 0.5890\n",
            "Training Loss: 0.6673\n",
            "Validation Accuracy: 0.5813\n",
            "Validation Loss: 0.6563\n",
            "Test Accuracy for 2500 samples: 0.5879\n"
          ]
        }
      ]
    },
    {
      "cell_type": "markdown",
      "metadata": {
        "id": "uDP1iR6DcMXc"
      },
      "source": [
        "##Training Models using pretrined VGG16 with Different Sample Sizes"
      ]
    },
    {
      "cell_type": "code",
      "execution_count": null,
      "metadata": {
        "colab": {
          "base_uri": "https://localhost:8080/"
        },
        "id": "k26-BAla5wkt",
        "outputId": "0465ea7f-6f3e-4998-9527-3b8af6269419"
      },
      "outputs": [
        {
          "output_type": "stream",
          "name": "stdout",
          "text": [
            "\n",
            "Training with 500 samples...\n",
            "Epoch 1/10\n",
            "\u001b[1m15/15\u001b[0m \u001b[32m━━━━━━━━━━━━━━━━━━━━\u001b[0m\u001b[37m\u001b[0m \u001b[1m265s\u001b[0m 18s/step - accuracy: 0.4903 - loss: 2.6681 - val_accuracy: 0.7125 - val_loss: 0.5565 - learning_rate: 0.0010\n",
            "Epoch 2/10\n",
            "\u001b[1m15/15\u001b[0m \u001b[32m━━━━━━━━━━━━━━━━━━━━\u001b[0m\u001b[37m\u001b[0m \u001b[1m321s\u001b[0m 22s/step - accuracy: 0.6120 - loss: 0.7728 - val_accuracy: 0.8021 - val_loss: 0.4566 - learning_rate: 0.0010\n",
            "Epoch 3/10\n",
            "\u001b[1m15/15\u001b[0m \u001b[32m━━━━━━━━━━━━━━━━━━━━\u001b[0m\u001b[37m\u001b[0m \u001b[1m261s\u001b[0m 18s/step - accuracy: 0.7237 - loss: 0.5564 - val_accuracy: 0.8521 - val_loss: 0.3819 - learning_rate: 0.0010\n",
            "Epoch 4/10\n",
            "\u001b[1m15/15\u001b[0m \u001b[32m━━━━━━━━━━━━━━━━━━━━\u001b[0m\u001b[37m\u001b[0m \u001b[1m261s\u001b[0m 18s/step - accuracy: 0.7843 - loss: 0.4842 - val_accuracy: 0.8542 - val_loss: 0.3565 - learning_rate: 0.0010\n",
            "Epoch 5/10\n",
            "\u001b[1m15/15\u001b[0m \u001b[32m━━━━━━━━━━━━━━━━━━━━\u001b[0m\u001b[37m\u001b[0m \u001b[1m203s\u001b[0m 14s/step - accuracy: 0.7760 - loss: 0.4550 - val_accuracy: 0.8771 - val_loss: 0.3305 - learning_rate: 0.0010\n",
            "Epoch 6/10\n",
            "\u001b[1m15/15\u001b[0m \u001b[32m━━━━━━━━━━━━━━━━━━━━\u001b[0m\u001b[37m\u001b[0m \u001b[1m322s\u001b[0m 20s/step - accuracy: 0.7865 - loss: 0.4320 - val_accuracy: 0.8750 - val_loss: 0.3253 - learning_rate: 0.0010\n",
            "Epoch 7/10\n",
            "\u001b[1m15/15\u001b[0m \u001b[32m━━━━━━━━━━━━━━━━━━━━\u001b[0m\u001b[37m\u001b[0m \u001b[1m322s\u001b[0m 22s/step - accuracy: 0.7652 - loss: 0.4756 - val_accuracy: 0.8750 - val_loss: 0.2926 - learning_rate: 0.0010\n",
            "Epoch 8/10\n",
            "\u001b[1m15/15\u001b[0m \u001b[32m━━━━━━━━━━━━━━━━━━━━\u001b[0m\u001b[37m\u001b[0m \u001b[1m259s\u001b[0m 18s/step - accuracy: 0.7697 - loss: 0.4367 - val_accuracy: 0.8813 - val_loss: 0.3054 - learning_rate: 0.0010\n",
            "Epoch 9/10\n",
            "\u001b[1m15/15\u001b[0m \u001b[32m━━━━━━━━━━━━━━━━━━━━\u001b[0m\u001b[37m\u001b[0m \u001b[1m263s\u001b[0m 18s/step - accuracy: 0.8340 - loss: 0.3838 - val_accuracy: 0.8833 - val_loss: 0.2921 - learning_rate: 0.0010\n",
            "Epoch 10/10\n",
            "\u001b[1m15/15\u001b[0m \u001b[32m━━━━━━━━━━━━━━━━━━━━\u001b[0m\u001b[37m\u001b[0m \u001b[1m155s\u001b[0m 11s/step - accuracy: 0.8941 - loss: 0.3136 - val_accuracy: 0.8875 - val_loss: 0.2804 - learning_rate: 0.0010\n",
            "\u001b[1m32/32\u001b[0m \u001b[32m━━━━━━━━━━━━━━━━━━━━\u001b[0m\u001b[37m\u001b[0m \u001b[1m271s\u001b[0m 8s/step - accuracy: 0.8879 - loss: 0.2839\n",
            "Train Accuracy: 0.8958\n",
            "Training Loss: 0.3109\n",
            "Validation Accuracy: 0.8875\n",
            "Validation Loss: 0.2804\n",
            "Test Accuracy for 500 samples: 0.8729\n"
          ]
        }
      ],
      "source": [
        "# Train from pretrained\n",
        "pretrained_results = []\n",
        "train_size = 500  # Train for question 4, repeat question 3 sample\n",
        "\n",
        "# Train and evaluate the pretrained model\n",
        "results, history = train_and_evaluate(create_pretrained_model(), train_generator, validation_generator, test_generator, train_size)\n",
        "pretrained_results.append(results)"
      ]
    },
    {
      "cell_type": "code",
      "execution_count": null,
      "metadata": {
        "colab": {
          "base_uri": "https://localhost:8080/"
        },
        "id": "HFIEY1ZHmdK9",
        "outputId": "f70a5d08-535d-4fec-c9cc-d73e8d501e24"
      },
      "outputs": [
        {
          "output_type": "stream",
          "name": "stdout",
          "text": [
            "\n",
            "Training with 1000 samples...\n",
            "Epoch 1/10\n",
            "\u001b[1m31/31\u001b[0m \u001b[32m━━━━━━━━━━━━━━━━━━━━\u001b[0m\u001b[37m\u001b[0m \u001b[1m407s\u001b[0m 13s/step - accuracy: 0.5958 - loss: 1.3655 - val_accuracy: 0.8542 - val_loss: 0.3549 - learning_rate: 0.0010\n",
            "Epoch 2/10\n",
            "\u001b[1m31/31\u001b[0m \u001b[32m━━━━━━━━━━━━━━━━━━━━\u001b[0m\u001b[37m\u001b[0m \u001b[1m440s\u001b[0m 14s/step - accuracy: 0.7469 - loss: 0.4966 - val_accuracy: 0.8562 - val_loss: 0.3354 - learning_rate: 0.0010\n",
            "Epoch 3/10\n",
            "\u001b[1m31/31\u001b[0m \u001b[32m━━━━━━━━━━━━━━━━━━━━\u001b[0m\u001b[37m\u001b[0m \u001b[1m143s\u001b[0m 4s/step - accuracy: 0.8750 - loss: 0.2887 - val_accuracy: 0.8687 - val_loss: 0.3290 - learning_rate: 0.0010\n",
            "Epoch 4/10\n",
            "\u001b[1m31/31\u001b[0m \u001b[32m━━━━━━━━━━━━━━━━━━━━\u001b[0m\u001b[37m\u001b[0m \u001b[1m452s\u001b[0m 13s/step - accuracy: 0.8139 - loss: 0.4168 - val_accuracy: 0.8875 - val_loss: 0.2800 - learning_rate: 0.0010\n",
            "Epoch 5/10\n",
            "\u001b[1m31/31\u001b[0m \u001b[32m━━━━━━━━━━━━━━━━━━━━\u001b[0m\u001b[37m\u001b[0m \u001b[1m442s\u001b[0m 14s/step - accuracy: 0.8265 - loss: 0.3907 - val_accuracy: 0.8625 - val_loss: 0.2968 - learning_rate: 0.0010\n",
            "Epoch 6/10\n",
            "\u001b[1m31/31\u001b[0m \u001b[32m━━━━━━━━━━━━━━━━━━━━\u001b[0m\u001b[37m\u001b[0m \u001b[1m141s\u001b[0m 4s/step - accuracy: 0.7812 - loss: 0.4049 - val_accuracy: 0.8854 - val_loss: 0.2697 - learning_rate: 0.0010\n",
            "Epoch 7/10\n",
            "\u001b[1m31/31\u001b[0m \u001b[32m━━━━━━━━━━━━━━━━━━━━\u001b[0m\u001b[37m\u001b[0m \u001b[1m460s\u001b[0m 13s/step - accuracy: 0.8205 - loss: 0.3887 - val_accuracy: 0.8917 - val_loss: 0.2787 - learning_rate: 0.0010\n",
            "Epoch 8/10\n",
            "\u001b[1m31/31\u001b[0m \u001b[32m━━━━━━━━━━━━━━━━━━━━\u001b[0m\u001b[37m\u001b[0m \u001b[1m404s\u001b[0m 13s/step - accuracy: 0.8381 - loss: 0.3565 - val_accuracy: 0.8583 - val_loss: 0.3282 - learning_rate: 0.0010\n",
            "Epoch 9/10\n",
            "\u001b[1m31/31\u001b[0m \u001b[32m━━━━━━━━━━━━━━━━━━━━\u001b[0m\u001b[37m\u001b[0m \u001b[1m138s\u001b[0m 4s/step - accuracy: 0.8125 - loss: 0.4762 - val_accuracy: 0.8625 - val_loss: 0.3206 - learning_rate: 0.0010\n",
            "Epoch 10/10\n",
            "\u001b[1m31/31\u001b[0m \u001b[32m━━━━━━━━━━━━━━━━━━━━\u001b[0m\u001b[37m\u001b[0m \u001b[1m402s\u001b[0m 13s/step - accuracy: 0.8111 - loss: 0.4405 - val_accuracy: 0.8729 - val_loss: 0.2876 - learning_rate: 2.0000e-04\n",
            "\u001b[1m32/32\u001b[0m \u001b[32m━━━━━━━━━━━━━━━━━━━━\u001b[0m\u001b[37m\u001b[0m \u001b[1m270s\u001b[0m 8s/step - accuracy: 0.8616 - loss: 0.3014\n",
            "Train Accuracy: 0.8012\n",
            "Training Loss: 0.4236\n",
            "Validation Accuracy: 0.8729\n",
            "Validation Loss: 0.2876\n",
            "Test Accuracy for 1000 samples: 0.8640\n"
          ]
        }
      ],
      "source": [
        "# Train from pretrained\n",
        "pretrained_results = []\n",
        "train_size = 1000  # Train for question 4, repeat question 1 sample\n",
        "\n",
        "# Train and evaluate the pretrained model\n",
        "results, history = train_and_evaluate(create_pretrained_model(), train_generator, validation_generator, test_generator, train_size)\n",
        "pretrained_results.append(results)"
      ]
    },
    {
      "cell_type": "code",
      "execution_count": null,
      "metadata": {
        "id": "HeBmITPMn7w8",
        "colab": {
          "base_uri": "https://localhost:8080/"
        },
        "outputId": "cf917509-8308-4ec0-96a5-d2fb9e9742ab"
      },
      "outputs": [
        {
          "output_type": "stream",
          "name": "stdout",
          "text": [
            "\n",
            "Training with 1500 samples...\n",
            "Epoch 1/10\n",
            "\u001b[1m46/46\u001b[0m \u001b[32m━━━━━━━━━━━━━━━━━━━━\u001b[0m\u001b[37m\u001b[0m \u001b[1m541s\u001b[0m 12s/step - accuracy: 0.5908 - loss: 1.4829 - val_accuracy: 0.8750 - val_loss: 0.3111 - learning_rate: 0.0010\n",
            "Epoch 2/10\n",
            "\u001b[1m46/46\u001b[0m \u001b[32m━━━━━━━━━━━━━━━━━━━━\u001b[0m\u001b[37m\u001b[0m \u001b[1m322s\u001b[0m 7s/step - accuracy: 0.7518 - loss: 0.4824 - val_accuracy: 0.8125 - val_loss: 0.3832 - learning_rate: 0.0010\n",
            "Epoch 3/10\n",
            "\u001b[1m46/46\u001b[0m \u001b[32m━━━━━━━━━━━━━━━━━━━━\u001b[0m\u001b[37m\u001b[0m \u001b[1m533s\u001b[0m 12s/step - accuracy: 0.7772 - loss: 0.4338 - val_accuracy: 0.8479 - val_loss: 0.3188 - learning_rate: 0.0010\n",
            "Epoch 4/10\n",
            "\u001b[1m46/46\u001b[0m \u001b[32m━━━━━━━━━━━━━━━━━━━━\u001b[0m\u001b[37m\u001b[0m \u001b[1m322s\u001b[0m 7s/step - accuracy: 0.8187 - loss: 0.4125 - val_accuracy: 0.8771 - val_loss: 0.2851 - learning_rate: 0.0010\n",
            "Epoch 5/10\n",
            "\u001b[1m46/46\u001b[0m \u001b[32m━━━━━━━━━━━━━━━━━━━━\u001b[0m\u001b[37m\u001b[0m \u001b[1m560s\u001b[0m 12s/step - accuracy: 0.8097 - loss: 0.3993 - val_accuracy: 0.8583 - val_loss: 0.3117 - learning_rate: 0.0010\n",
            "Epoch 6/10\n",
            "\u001b[1m46/46\u001b[0m \u001b[32m━━━━━━━━━━━━━━━━━━━━\u001b[0m\u001b[37m\u001b[0m \u001b[1m323s\u001b[0m 7s/step - accuracy: 0.8482 - loss: 0.3612 - val_accuracy: 0.8729 - val_loss: 0.2867 - learning_rate: 0.0010\n",
            "Epoch 7/10\n",
            "\u001b[1m46/46\u001b[0m \u001b[32m━━━━━━━━━━━━━━━━━━━━\u001b[0m\u001b[37m\u001b[0m \u001b[1m567s\u001b[0m 12s/step - accuracy: 0.8374 - loss: 0.3803 - val_accuracy: 0.9167 - val_loss: 0.2540 - learning_rate: 0.0010\n",
            "Epoch 8/10\n",
            "\u001b[1m46/46\u001b[0m \u001b[32m━━━━━━━━━━━━━━━━━━━━\u001b[0m\u001b[37m\u001b[0m \u001b[1m278s\u001b[0m 6s/step - accuracy: 0.8552 - loss: 0.3391 - val_accuracy: 0.8896 - val_loss: 0.2613 - learning_rate: 0.0010\n",
            "Epoch 9/10\n",
            "\u001b[1m46/46\u001b[0m \u001b[32m━━━━━━━━━━━━━━━━━━━━\u001b[0m\u001b[37m\u001b[0m \u001b[1m591s\u001b[0m 12s/step - accuracy: 0.8569 - loss: 0.3365 - val_accuracy: 0.8708 - val_loss: 0.2926 - learning_rate: 0.0010\n",
            "Epoch 10/10\n",
            "\u001b[1m46/46\u001b[0m \u001b[32m━━━━━━━━━━━━━━━━━━━━\u001b[0m\u001b[37m\u001b[0m \u001b[1m275s\u001b[0m 6s/step - accuracy: 0.8350 - loss: 0.3682 - val_accuracy: 0.8875 - val_loss: 0.2440 - learning_rate: 0.0010\n",
            "\u001b[1m32/32\u001b[0m \u001b[32m━━━━━━━━━━━━━━━━━━━━\u001b[0m\u001b[37m\u001b[0m \u001b[1m270s\u001b[0m 8s/step - accuracy: 0.8817 - loss: 0.2777\n",
            "Train Accuracy: 0.8409\n",
            "Training Loss: 0.3677\n",
            "Validation Accuracy: 0.8875\n",
            "Validation Loss: 0.2440\n",
            "Test Accuracy for 1500 samples: 0.8878\n"
          ]
        }
      ],
      "source": [
        "# Train from pretrained\n",
        "pretrained_results = []\n",
        "train_size = 1500  # Train for question 4, repeat question 2 sample\n",
        "\n",
        "# Train and evaluate the pretrained model\n",
        "results, history = train_and_evaluate(create_pretrained_model(), train_generator, validation_generator, test_generator, train_size)\n",
        "pretrained_results.append(results)"
      ]
    },
    {
      "cell_type": "code",
      "execution_count": null,
      "metadata": {
        "id": "dUfWLzcxn-Yb",
        "colab": {
          "base_uri": "https://localhost:8080/"
        },
        "outputId": "2f70189f-8834-46b2-836b-4aef00eadb27"
      },
      "outputs": [
        {
          "output_type": "stream",
          "name": "stdout",
          "text": [
            "\n",
            "Training with 2000 samples...\n",
            "Epoch 1/10\n",
            "\u001b[1m62/62\u001b[0m \u001b[32m━━━━━━━━━━━━━━━━━━━━\u001b[0m\u001b[37m\u001b[0m \u001b[1m681s\u001b[0m 11s/step - accuracy: 0.6406 - loss: 1.0396 - val_accuracy: 0.8771 - val_loss: 0.2999 - learning_rate: 0.0010\n",
            "Epoch 2/10\n",
            "\u001b[1m62/62\u001b[0m \u001b[32m━━━━━━━━━━━━━━━━━━━━\u001b[0m\u001b[37m\u001b[0m \u001b[1m144s\u001b[0m 2s/step - accuracy: 0.7500 - loss: 0.4985 - val_accuracy: 0.8333 - val_loss: 0.3518 - learning_rate: 0.0010\n",
            "Epoch 3/10\n",
            "\u001b[1m62/62\u001b[0m \u001b[32m━━━━━━━━━━━━━━━━━━━━\u001b[0m\u001b[37m\u001b[0m \u001b[1m741s\u001b[0m 11s/step - accuracy: 0.7912 - loss: 0.4511 - val_accuracy: 0.8250 - val_loss: 0.3561 - learning_rate: 0.0010\n",
            "Epoch 4/10\n",
            "\u001b[1m62/62\u001b[0m \u001b[32m━━━━━━━━━━━━━━━━━━━━\u001b[0m\u001b[37m\u001b[0m \u001b[1m143s\u001b[0m 2s/step - accuracy: 0.8438 - loss: 0.3851 - val_accuracy: 0.8687 - val_loss: 0.2854 - learning_rate: 0.0010\n",
            "Epoch 5/10\n",
            "\u001b[1m62/62\u001b[0m \u001b[32m━━━━━━━━━━━━━━━━━━━━\u001b[0m\u001b[37m\u001b[0m \u001b[1m741s\u001b[0m 12s/step - accuracy: 0.7980 - loss: 0.4112 - val_accuracy: 0.8750 - val_loss: 0.2948 - learning_rate: 0.0010\n",
            "Epoch 6/10\n",
            "\u001b[1m62/62\u001b[0m \u001b[32m━━━━━━━━━━━━━━━━━━━━\u001b[0m\u001b[37m\u001b[0m \u001b[1m143s\u001b[0m 2s/step - accuracy: 0.8125 - loss: 0.3375 - val_accuracy: 0.8958 - val_loss: 0.2714 - learning_rate: 0.0010\n",
            "Epoch 7/10\n",
            "\u001b[1m62/62\u001b[0m \u001b[32m━━━━━━━━━━━━━━━━━━━━\u001b[0m\u001b[37m\u001b[0m \u001b[1m675s\u001b[0m 11s/step - accuracy: 0.8326 - loss: 0.3672 - val_accuracy: 0.8938 - val_loss: 0.2493 - learning_rate: 0.0010\n",
            "Epoch 8/10\n",
            "\u001b[1m62/62\u001b[0m \u001b[32m━━━━━━━━━━━━━━━━━━━━\u001b[0m\u001b[37m\u001b[0m \u001b[1m137s\u001b[0m 2s/step - accuracy: 0.8750 - loss: 0.3103 - val_accuracy: 0.9021 - val_loss: 0.2618 - learning_rate: 0.0010\n",
            "Epoch 9/10\n",
            "\u001b[1m62/62\u001b[0m \u001b[32m━━━━━━━━━━━━━━━━━━━━\u001b[0m\u001b[37m\u001b[0m \u001b[1m682s\u001b[0m 11s/step - accuracy: 0.8317 - loss: 0.3705 - val_accuracy: 0.9021 - val_loss: 0.2498 - learning_rate: 0.0010\n",
            "Epoch 10/10\n",
            "\u001b[1m62/62\u001b[0m \u001b[32m━━━━━━━━━━━━━━━━━━━━\u001b[0m\u001b[37m\u001b[0m \u001b[1m138s\u001b[0m 2s/step - accuracy: 0.9062 - loss: 0.2866 - val_accuracy: 0.9042 - val_loss: 0.2441 - learning_rate: 0.0010\n",
            "\u001b[1m32/32\u001b[0m \u001b[32m━━━━━━━━━━━━━━━━━━━━\u001b[0m\u001b[37m\u001b[0m \u001b[1m270s\u001b[0m 8s/step - accuracy: 0.8823 - loss: 0.2538\n",
            "Train Accuracy: 0.9062\n",
            "Training Loss: 0.2866\n",
            "Validation Accuracy: 0.9042\n",
            "Validation Loss: 0.2441\n",
            "Test Accuracy for 2000 samples: 0.8888\n"
          ]
        }
      ],
      "source": [
        "# Train from pretrained\n",
        "pretrained_results = []\n",
        "train_size = 2000  # Train for question 4, repeat question 3 sample\n",
        "\n",
        "# Train and evaluate the pretrained model\n",
        "results, history = train_and_evaluate(create_pretrained_model(), train_generator, validation_generator, test_generator, train_size)\n",
        "pretrained_results.append(results)"
      ]
    },
    {
      "cell_type": "code",
      "source": [
        "# Train from pretrained\n",
        "pretrained_results = []\n",
        "train_size = 2500  # Train for question 4, repeat question 3 sample\n",
        "\n",
        "# Train and evaluate the pretrained model\n",
        "results, history = train_and_evaluate(create_pretrained_model(), train_generator, validation_generator, test_generator, train_size)\n",
        "pretrained_results.append(results)"
      ],
      "metadata": {
        "id": "MY9TarYvTWwV",
        "colab": {
          "base_uri": "https://localhost:8080/"
        },
        "outputId": "60514702-f096-4f37-a1cf-8a2246a3e819"
      },
      "execution_count": null,
      "outputs": [
        {
          "output_type": "stream",
          "name": "stdout",
          "text": [
            "\n",
            "Training with 2500 samples...\n",
            "Epoch 1/10\n",
            "\u001b[1m78/78\u001b[0m \u001b[32m━━━━━━━━━━━━━━━━━━━━\u001b[0m\u001b[37m\u001b[0m \u001b[1m687s\u001b[0m 9s/step - accuracy: 0.6284 - loss: 1.0277 - val_accuracy: 0.8625 - val_loss: 0.3094 - learning_rate: 0.0010\n",
            "Epoch 2/10\n",
            "\u001b[1m78/78\u001b[0m \u001b[32m━━━━━━━━━━━━━━━━━━━━\u001b[0m\u001b[37m\u001b[0m \u001b[1m740s\u001b[0m 9s/step - accuracy: 0.8130 - loss: 0.4121 - val_accuracy: 0.8979 - val_loss: 0.2617 - learning_rate: 0.0010\n",
            "Epoch 3/10\n",
            "\u001b[1m78/78\u001b[0m \u001b[32m━━━━━━━━━━━━━━━━━━━━\u001b[0m\u001b[37m\u001b[0m \u001b[1m682s\u001b[0m 9s/step - accuracy: 0.8190 - loss: 0.3881 - val_accuracy: 0.8938 - val_loss: 0.2643 - learning_rate: 0.0010\n",
            "Epoch 4/10\n",
            "\u001b[1m78/78\u001b[0m \u001b[32m━━━━━━━━━━━━━━━━━━━━\u001b[0m\u001b[37m\u001b[0m \u001b[1m742s\u001b[0m 9s/step - accuracy: 0.8281 - loss: 0.3790 - val_accuracy: 0.8562 - val_loss: 0.3022 - learning_rate: 0.0010\n",
            "Epoch 5/10\n",
            "\u001b[1m78/78\u001b[0m \u001b[32m━━━━━━━━━━━━━━━━━━━━\u001b[0m\u001b[37m\u001b[0m \u001b[1m677s\u001b[0m 9s/step - accuracy: 0.8443 - loss: 0.3716 - val_accuracy: 0.8958 - val_loss: 0.2718 - learning_rate: 0.0010\n",
            "Epoch 6/10\n",
            "\u001b[1m78/78\u001b[0m \u001b[32m━━━━━━━━━━━━━━━━━━━━\u001b[0m\u001b[37m\u001b[0m \u001b[1m684s\u001b[0m 9s/step - accuracy: 0.8538 - loss: 0.3328 - val_accuracy: 0.9000 - val_loss: 0.2450 - learning_rate: 2.0000e-04\n",
            "Epoch 7/10\n",
            "\u001b[1m78/78\u001b[0m \u001b[32m━━━━━━━━━━━━━━━━━━━━\u001b[0m\u001b[37m\u001b[0m \u001b[1m681s\u001b[0m 9s/step - accuracy: 0.8533 - loss: 0.3476 - val_accuracy: 0.8938 - val_loss: 0.2387 - learning_rate: 2.0000e-04\n",
            "Epoch 8/10\n",
            "\u001b[1m78/78\u001b[0m \u001b[32m━━━━━━━━━━━━━━━━━━━━\u001b[0m\u001b[37m\u001b[0m \u001b[1m682s\u001b[0m 9s/step - accuracy: 0.8719 - loss: 0.3035 - val_accuracy: 0.8896 - val_loss: 0.2600 - learning_rate: 2.0000e-04\n",
            "Epoch 9/10\n",
            "\u001b[1m78/78\u001b[0m \u001b[32m━━━━━━━━━━━━━━━━━━━━\u001b[0m\u001b[37m\u001b[0m \u001b[1m682s\u001b[0m 9s/step - accuracy: 0.8690 - loss: 0.3078 - val_accuracy: 0.9125 - val_loss: 0.2218 - learning_rate: 2.0000e-04\n",
            "Epoch 10/10\n",
            "\u001b[1m78/78\u001b[0m \u001b[32m━━━━━━━━━━━━━━━━━━━━\u001b[0m\u001b[37m\u001b[0m \u001b[1m741s\u001b[0m 9s/step - accuracy: 0.8699 - loss: 0.3006 - val_accuracy: 0.8917 - val_loss: 0.2368 - learning_rate: 2.0000e-04\n",
            "\u001b[1m32/32\u001b[0m \u001b[32m━━━━━━━━━━━━━━━━━━━━\u001b[0m\u001b[37m\u001b[0m \u001b[1m270s\u001b[0m 8s/step - accuracy: 0.8906 - loss: 0.2409\n",
            "Train Accuracy: 0.8635\n",
            "Training Loss: 0.3075\n",
            "Validation Accuracy: 0.8917\n",
            "Validation Loss: 0.2368\n",
            "Test Accuracy for 2500 samples: 0.8878\n"
          ]
        }
      ]
    },
    {
      "cell_type": "markdown",
      "metadata": {
        "id": "xQZ_DRP3lcCY"
      },
      "source": [
        "##Evaluating the model"
      ]
    },
    {
      "cell_type": "code",
      "execution_count": null,
      "metadata": {
        "colab": {
          "base_uri": "https://localhost:8080/"
        },
        "id": "rWqia8HGlTkd",
        "outputId": "81fb4171-c7e0-4271-8bac-005961f54ed5"
      },
      "outputs": [
        {
          "name": "stdout",
          "output_type": "stream",
          "text": [
            "\u001b[1m32/32\u001b[0m \u001b[32m━━━━━━━━━━━━━━━━━━━━\u001b[0m\u001b[37m\u001b[0m \u001b[1m19s\u001b[0m 598ms/step\n",
            "              precision    recall  f1-score   support\n",
            "\n",
            "           0       0.00      0.00      0.00       500\n",
            "           1       0.50      1.00      0.67       507\n",
            "\n",
            "    accuracy                           0.50      1007\n",
            "   macro avg       0.25      0.50      0.33      1007\n",
            "weighted avg       0.25      0.50      0.34      1007\n",
            "\n",
            "[[  0 500]\n",
            " [  0 507]]\n"
          ]
        },
        {
          "name": "stderr",
          "output_type": "stream",
          "text": [
            "/usr/local/lib/python3.11/dist-packages/sklearn/metrics/_classification.py:1565: UndefinedMetricWarning: Precision is ill-defined and being set to 0.0 in labels with no predicted samples. Use `zero_division` parameter to control this behavior.\n",
            "  _warn_prf(average, modifier, f\"{metric.capitalize()} is\", len(result))\n",
            "/usr/local/lib/python3.11/dist-packages/sklearn/metrics/_classification.py:1565: UndefinedMetricWarning: Precision is ill-defined and being set to 0.0 in labels with no predicted samples. Use `zero_division` parameter to control this behavior.\n",
            "  _warn_prf(average, modifier, f\"{metric.capitalize()} is\", len(result))\n",
            "/usr/local/lib/python3.11/dist-packages/sklearn/metrics/_classification.py:1565: UndefinedMetricWarning: Precision is ill-defined and being set to 0.0 in labels with no predicted samples. Use `zero_division` parameter to control this behavior.\n",
            "  _warn_prf(average, modifier, f\"{metric.capitalize()} is\", len(result))\n"
          ]
        }
      ],
      "source": [
        "from sklearn.metrics import classification_report, confusion_matrix\n",
        "y_pred = model.predict(test_generator)\n",
        "y_pred = (y_pred > 0.5).astype(int)\n",
        "print(classification_report(test_generator.classes, y_pred))\n",
        "print(confusion_matrix(test_generator.classes, y_pred))"
      ]
    },
    {
      "cell_type": "markdown",
      "source": [
        "##Comparison table for results from scratch"
      ],
      "metadata": {
        "id": "L4yHa_5GDdPQ"
      }
    },
    {
      "cell_type": "code",
      "source": [
        "import pandas as pd\n",
        "\n",
        "# Define the scratch_results list\n",
        "scratch_results = [\n",
        "    {'train_size': 500, 'train_acc': 0.5104, 'train_loss': 0.6871, 'val_acc': 0.4958, 'val_loss': 0.6849, 'test_acc': 0.5005},\n",
        "    {'train_size': 1000, 'train_acc': 0.5696, 'train_loss': 0.6779, 'val_acc': 0.6396, 'val_loss': 0.6462, 'test_acc': 0.5700},\n",
        "    {'train_size': 1500, 'train_acc': 0.5533, 'train_loss': 0.6804, 'val_acc': 0.5521, 'val_loss': 0.6822, 'test_acc': 0.5482},\n",
        "    {'train_size': 2000, 'train_acc': 0.6875, 'train_loss': 0.6692, 'val_acc': 0.5500, 'val_loss': 0.6847, 'test_acc': 0.5511},\n",
        "    {'train_size': 2500, 'train_acc': 0.5890, 'train_loss': 0.6673, 'val_acc': 0.5813, 'val_loss': 0.6563, 'test_acc': 0.5879}\n",
        "]\n",
        "\n",
        "# Convert the list to a DataFrame\n",
        "scratch_df = pd.DataFrame(scratch_results)\n",
        "\n",
        "# Display the table\n",
        "print(\"From-Scratch Model Results:\")\n",
        "print(scratch_df)"
      ],
      "metadata": {
        "colab": {
          "base_uri": "https://localhost:8080/"
        },
        "id": "O4spDJ9v9u0X",
        "outputId": "8f2f6a72-a912-4575-fbeb-b63859af90b1"
      },
      "execution_count": null,
      "outputs": [
        {
          "output_type": "stream",
          "name": "stdout",
          "text": [
            "From-Scratch Model Results:\n",
            "   train_size  train_acc  train_loss  val_acc  val_loss  test_acc\n",
            "0         500     0.5104      0.6871   0.4958    0.6849    0.5005\n",
            "1        1000     0.5696      0.6779   0.6396    0.6462    0.5700\n",
            "2        1500     0.5533      0.6804   0.5521    0.6822    0.5482\n",
            "3        2000     0.6875      0.6692   0.5500    0.6847    0.5511\n",
            "4        2500     0.5890      0.6673   0.5813    0.6563    0.5879\n"
          ]
        }
      ]
    },
    {
      "cell_type": "markdown",
      "source": [
        "##Comparison table for pretrained results"
      ],
      "metadata": {
        "id": "qDK9bUm_Djsk"
      }
    },
    {
      "cell_type": "code",
      "source": [
        "import pandas as pd\n",
        "\n",
        "# Define the pretrained_results list\n",
        "pretrained_results = [\n",
        "    {'train_size': 500, 'train_acc': 0.8958, 'train_loss': 0.3109, 'val_acc': 0.8875, 'val_loss': 0.2804, 'test_acc': 0.8729},\n",
        "    {'train_size': 1000, 'train_acc': 0.8012, 'train_loss': 0.4236, 'val_acc': 0.8729, 'val_loss': 0.2876, 'test_acc': 0.8640},\n",
        "    {'train_size': 1500, 'train_acc': 0.8409, 'train_loss': 0.3677, 'val_acc': 0.8875, 'val_loss': 0.2440, 'test_acc': 0.8878},\n",
        "    {'train_size': 2000, 'train_acc': 0.9062, 'train_loss': 0.2866, 'val_acc': 0.9042, 'val_loss': 0.2441, 'test_acc': 0.8888},\n",
        "    {'train_size': 2500, 'train_acc': 0.8635, 'train_loss': 0.3075, 'val_acc': 0.8917, 'val_loss': 0.2368, 'test_acc': 0.8878}\n",
        "]\n",
        "\n",
        "# Convert the list to a DataFrame\n",
        "pretrained_df = pd.DataFrame(pretrained_results)\n",
        "\n",
        "# Display the table\n",
        "print(\"Pretrained Model Results:\")\n",
        "print(pretrained_df)"
      ],
      "metadata": {
        "colab": {
          "base_uri": "https://localhost:8080/"
        },
        "id": "PTnZ0cJ5-5gp",
        "outputId": "0533080e-2ec4-4a04-e16b-606906b94590"
      },
      "execution_count": null,
      "outputs": [
        {
          "output_type": "stream",
          "name": "stdout",
          "text": [
            "Pretrained Model Results:\n",
            "   train_size  train_acc  train_loss  val_acc  val_loss  test_acc\n",
            "0         500     0.8958      0.3109   0.8875    0.2804    0.8729\n",
            "1        1000     0.8012      0.4236   0.8729    0.2876    0.8640\n",
            "2        1500     0.8409      0.3677   0.8875    0.2440    0.8878\n",
            "3        2000     0.9062      0.2866   0.9042    0.2441    0.8888\n",
            "4        2500     0.8635      0.3075   0.8917    0.2368    0.8878\n"
          ]
        }
      ]
    },
    {
      "cell_type": "code",
      "source": [
        "import matplotlib.pyplot as plt\n",
        "import pandas as pd\n",
        "\n",
        "# From-Scratch Model Results\n",
        "scratch_results = [\n",
        "    {'train_size': 500, 'train_acc': 0.5104, 'train_loss': 0.6871, 'val_acc': 0.4958, 'val_loss': 0.6849},\n",
        "    {'train_size': 1000, 'train_acc': 0.5696, 'train_loss': 0.6779, 'val_acc': 0.6396, 'val_loss': 0.6462},\n",
        "    {'train_size': 1500, 'train_acc': 0.5533, 'train_loss': 0.6804, 'val_acc': 0.5521, 'val_loss': 0.6822},\n",
        "    {'train_size': 2000, 'train_acc': 0.6875, 'train_loss': 0.6692, 'val_acc': 0.5500, 'val_loss': 0.6847},\n",
        "    {'train_size': 2500, 'train_acc': 0.5890, 'train_loss': 0.6673, 'val_acc': 0.5813, 'val_loss': 0.6563}\n",
        "]\n",
        "\n",
        "# Pretrained Model Results\n",
        "pretrained_results = [\n",
        "    {'train_size': 500, 'train_acc': 0.8958, 'train_loss': 0.3109, 'val_acc': 0.8875, 'val_loss': 0.2804},\n",
        "    {'train_size': 1000, 'train_acc': 0.8012, 'train_loss': 0.4236, 'val_acc': 0.8729, 'val_loss': 0.2876},\n",
        "    {'train_size': 1500, 'train_acc': 0.8409, 'train_loss': 0.3677, 'val_acc': 0.8875, 'val_loss': 0.2440},\n",
        "    {'train_size': 2000, 'train_acc': 0.9062, 'train_loss': 0.2866, 'val_acc': 0.9042, 'val_loss': 0.2441},\n",
        "    {'train_size': 2500, 'train_acc': 0.8635, 'train_loss': 0.3075, 'val_acc': 0.8917, 'val_loss': 0.2368}\n",
        "]\n",
        "\n",
        "# Convert results to DataFrames\n",
        "scratch_df = pd.DataFrame(scratch_results)\n",
        "pretrained_df = pd.DataFrame(pretrained_results)\n",
        "\n",
        "# Plot 1: Training and Validation Accuracy vs. Sample Size\n",
        "plt.figure(figsize=(12, 5))\n",
        "plt.subplot(1, 2, 1)\n",
        "\n",
        "# From-Scratch Model\n",
        "plt.plot(scratch_df['train_size'], scratch_df['train_acc'], 'b-o', label='From-Scratch Train Accuracy')\n",
        "plt.plot(scratch_df['train_size'], scratch_df['val_acc'], 'b--o', label='From-Scratch Val Accuracy')\n",
        "\n",
        "# Pretrained Model\n",
        "plt.plot(pretrained_df['train_size'], pretrained_df['train_acc'], 'r-o', label='Pretrained Train Accuracy')\n",
        "plt.plot(pretrained_df['train_size'], pretrained_df['val_acc'], 'r--o', label='Pretrained Val Accuracy')\n",
        "\n",
        "plt.title('Training and Validation Accuracy vs. Sample Size')\n",
        "plt.xlabel('Training Sample Size')\n",
        "plt.ylabel('Accuracy')\n",
        "plt.legend()\n",
        "plt.grid(True)\n",
        "\n",
        "# Plot 2: Training and Validation Loss vs. Sample Size\n",
        "plt.subplot(1, 2, 2)\n",
        "\n",
        "# From-Scratch Model\n",
        "plt.plot(scratch_df['train_size'], scratch_df['train_loss'], 'b-o', label='From-Scratch Train Loss')\n",
        "plt.plot(scratch_df['train_size'], scratch_df['val_loss'], 'b--o', label='From-Scratch Val Loss')\n",
        "\n",
        "# Pretrained Model\n",
        "plt.plot(pretrained_df['train_size'], pretrained_df['train_loss'], 'r-o', label='Pretrained Train Loss')\n",
        "plt.plot(pretrained_df['train_size'], pretrained_df['val_loss'], 'r--o', label='Pretrained Val Loss')\n",
        "\n",
        "plt.title('Training and Validation Loss vs. Sample Size')\n",
        "plt.xlabel('Training Sample Size')\n",
        "plt.ylabel('Loss')\n",
        "plt.legend()\n",
        "plt.grid(True)\n",
        "\n",
        "plt.tight_layout()\n",
        "plt.show()"
      ],
      "metadata": {
        "id": "KBBNgFJ7ETPZ",
        "outputId": "58005b25-efd3-43cf-9cf0-05ed443b8e21",
        "colab": {
          "base_uri": "https://localhost:8080/",
          "height": 507
        }
      },
      "execution_count": null,
      "outputs": [
        {
          "output_type": "display_data",
          "data": {
            "text/plain": [
              "<Figure size 1200x500 with 2 Axes>"
            ],
            "image/png": "[encoded data removed]"
          },
          "metadata": {}
        }
      ]
    }
  ],
  "metadata": {
    "colab": {
      "provenance": [],
      "authorship_tag": "ABX9TyPpD3wi4Rt8xXCoRH/ypJcK",
      "include_colab_link": true
    },
    "kernelspec": {
      "display_name": "Python 3",
      "name": "python3"
    },
    "language_info": {
      "name": "python"
    }
  },
  "nbformat": 4,
  "nbformat_minor": 0
}